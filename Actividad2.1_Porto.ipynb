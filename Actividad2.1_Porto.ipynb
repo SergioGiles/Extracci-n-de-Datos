{
 "cells": [
  {
   "cell_type": "code",
   "execution_count": 21,
   "metadata": {},
   "outputs": [],
   "source": [
    "import pandas as pd"
   ]
  },
  {
   "cell_type": "code",
   "execution_count": 22,
   "metadata": {},
   "outputs": [],
   "source": [
    "df = pd.read_csv('PortoPortugal_50.csv')"
   ]
  },
  {
   "cell_type": "code",
   "execution_count": 23,
   "metadata": {},
   "outputs": [],
   "source": [
    "# a) Los registros de 5 “host name” diferentes   # Uso de \"IDs, por no tener \"names\" \n",
    "\n",
    "host_name = df['id'].unique()[:5]\n",
    "filtro_a = df[df['id'].isin(host_name)]\n",
    "filtro_a.to_csv('host_name(id).csv', index = False)"
   ]
  },
  {
   "cell_type": "code",
   "execution_count": 24,
   "metadata": {},
   "outputs": [
    {
     "name": "stderr",
     "output_type": "stream",
     "text": [
      "/var/folders/nm/538b56350957x8_x2f8xz2gc0000gn/T/ipykernel_15209/2887724663.py:4: UserWarning: Could not infer format, so each element will be parsed individually, falling back to `dateutil`. To ensure parsing is consistent and as-expected, please specify a format.\n",
      "  df['host_since'] = pd.to_datetime(df['host_since'], errors='coerce')\n"
     ]
    }
   ],
   "source": [
    "# b) Los registros de los host que se hallan unido a Airbnb “despues del año 2020”\n",
    "\n",
    "df = df.dropna(subset=['host_since'])\n",
    "df['host_since'] = pd.to_datetime(df['host_since'], errors='coerce')\n",
    "df = df.dropna(subset=['host_since'])\n",
    "filtro_b = df[df['host_since'].dt.year >= 2020]\n",
    "filtro_b.to_csv('Porto_host_since.csv', index=False)"
   ]
  },
  {
   "cell_type": "code",
   "execution_count": 25,
   "metadata": {},
   "outputs": [],
   "source": [
    "# c) Los registros de los host que responden “a más tardar en 1 día”\n",
    "\n",
    "tiempo_respuesta = [\"within a day\", \"within an hour\", \"within a few hours\"]\n",
    "filtro_c = df[df['host_response_time'].isin(tiempo_respuesta)]\n",
    "filtro_c.to_csv('Porto_host_tiempo_respuesta.csv', index=False)"
   ]
  },
  {
   "cell_type": "code",
   "execution_count": 28,
   "metadata": {},
   "outputs": [],
   "source": [
    "# d) Los registros de las filas “Múltiplos de 200… (400, 600, 800, etc.)”\n",
    "\n",
    "filtro_filas = df.iloc[::200]\n",
    "filtro_filas.to_csv('Filas_múltiplos_.csv', index=False)"
   ]
  },
  {
   "cell_type": "code",
   "execution_count": 27,
   "metadata": {},
   "outputs": [],
   "source": [
    "# Los registros de los tipos de cuarto: “Entire home” y “Private room”\n",
    "\n",
    "tipos_cuarto = [\"Entire home/apt\", \"Private room\"]\n",
    "filtro_tipoCuarto = df[df['room_type'].isin(tipos_cuarto)]\n",
    "filtro_tipoCuarto.to_csv('Porto_room_type.csv', index=False)"
   ]
  },
  {
   "cell_type": "code",
   "execution_count": null,
   "metadata": {},
   "outputs": [],
   "source": [
    "# f) Los registros que “a lo mucho cuenten con 4 camas”\n",
    "\n",
    "filtro_camas = df[df['beds'] <= 4]\n",
    "filtro_camas.to_csv('Porto_beds.csv', index=False)"
   ]
  },
  {
   "cell_type": "code",
   "execution_count": null,
   "metadata": {},
   "outputs": [],
   "source": [
    "# g) Los registros que “sean superhost”\n",
    "\n",
    "filtro_superhost = df[df['host_is_superhost'] == 't']\n",
    "filtro_superhost.to_csv('Porto_superhost.csv', index=False)"
   ]
  },
  {
   "cell_type": "code",
   "execution_count": null,
   "metadata": {},
   "outputs": [],
   "source": [
    "# h) Los registros de las columnas “impares”\n",
    "\n",
    "filtro_columnasimpares = df.iloc[:, ::2]\n",
    "filtro_columnasimpares .to_csv('Porto_columnas_impares.csv', index=False)"
   ]
  }
 ],
 "metadata": {
  "kernelspec": {
   "display_name": "Python 3",
   "language": "python",
   "name": "python3"
  },
  "language_info": {
   "codemirror_mode": {
    "name": "ipython",
    "version": 3
   },
   "file_extension": ".py",
   "mimetype": "text/x-python",
   "name": "python",
   "nbconvert_exporter": "python",
   "pygments_lexer": "ipython3",
   "version": "3.13.2"
  }
 },
 "nbformat": 4,
 "nbformat_minor": 2
}
