{
 "cells": [
  {
   "cell_type": "code",
   "execution_count": 72,
   "metadata": {},
   "outputs": [],
   "source": [
    "import pandas as pd"
   ]
  },
  {
   "cell_type": "code",
   "execution_count": 73,
   "metadata": {},
   "outputs": [],
   "source": [
    "df = pd.read_csv('listings porto.csv')"
   ]
  },
  {
   "cell_type": "code",
   "execution_count": null,
   "metadata": {},
   "outputs": [
    {
     "name": "stdout",
     "output_type": "stream",
     "text": [
      "float64\n"
     ]
    }
   ],
   "source": [
    "# a) Los registros de los host cuyo “host_response_rate” sea mayor a 95% y que no sean “superhost”\n",
    "\n",
    "print(df[\"host_response_rate\"].dtype)\n",
    "\n",
    "df[\"host_response_rate\"] = df[\"host_response_rate\"].astype(str)\n",
    "\n",
    "df[\"host_response_rate\"] = df[\"host_response_rate\"].str.replace('%', '').astype(float)\n",
    "\n",
    "filtro_A = df[(df[\"host_response_rate\"] > 95) & (df[\"host_is_superhost\"] == False)]\n",
    "\n",
    "filtro_A.to_csv(\"Filtro_A_Host95.csv\", index=False)"
   ]
  },
  {
   "cell_type": "code",
   "execution_count": 15,
   "metadata": {},
   "outputs": [],
   "source": [
    "# b) Los registros cuyas propiedades no tengan “1 baño”\n",
    "\n",
    "filtro_B = df[df[\"bathrooms\"] != 1]\n",
    "filtro_B.to_csv(\"Filtro_B_Baños.csv\", index=False)"
   ]
  },
  {
   "cell_type": "code",
   "execution_count": 83,
   "metadata": {},
   "outputs": [],
   "source": [
    "# c) Los registros que tengan un precio entre “$100 y $200 US” (Realizar conversión de moneda)\n",
    "\n",
    "#filtro_C = df[df[\"price\"] >= 100 & (df[\"price\"] <= 200)]\n",
    "#filtro_C.to_csv(\"Filtro_C_Precio.csv\", index=False)\n",
    "\n",
    "filtro_C = df[(df[\"price\"] >= \"100\") & (df[\"price\"] <= \"200\")]\n",
    "filtro_C.to_csv(\"Filtro_C_Precio.csv\", index=False)"
   ]
  },
  {
   "cell_type": "code",
   "execution_count": 22,
   "metadata": {},
   "outputs": [],
   "source": [
    "# d) Los registros que sean “instant_bookable” y que hallan verificado su perfil “host_identity_verified”\n",
    "\n",
    "filtro_D = df[(df[\"instant_bookable\"] == \"t\") & (df[\"host_identity_verified\"] == \"t\")]\n",
    "filtro_D.to_csv(\"Filtro_D_Verificación.csv\", index=False)\n"
   ]
  },
  {
   "cell_type": "code",
   "execution_count": 21,
   "metadata": {},
   "outputs": [],
   "source": [
    "# e) Los registros de los tipos de cuarto: “hotel room” o “Private room”\n",
    "\n",
    "filtro_E = df[df[\"room_type\"].isin([\"Hotel room\", \"Private room\"])]\n",
    "filtro_E.to_csv(\"Filtro_E_TiposCuarto.csv\", index=False)"
   ]
  },
  {
   "cell_type": "code",
   "execution_count": 20,
   "metadata": {},
   "outputs": [],
   "source": [
    "# f) Los registros que tengan mas de 4 “accommodates”\n",
    "\n",
    "filtro_F = df[df[\"accommodates\"] > 4]\n",
    "filtro_F.to_csv(\"Filtro_F_Accommodates.csv\", index=False) "
   ]
  }
 ],
 "metadata": {
  "kernelspec": {
   "display_name": "Python 3",
   "language": "python",
   "name": "python3"
  },
  "language_info": {
   "codemirror_mode": {
    "name": "ipython",
    "version": 3
   },
   "file_extension": ".py",
   "mimetype": "text/x-python",
   "name": "python",
   "nbconvert_exporter": "python",
   "pygments_lexer": "ipython3",
   "version": "3.13.2"
  }
 },
 "nbformat": 4,
 "nbformat_minor": 2
}
